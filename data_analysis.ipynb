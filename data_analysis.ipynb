{
 "cells": [
  {
   "cell_type": "code",
   "execution_count": null,
   "metadata": {},
   "outputs": [],
   "source": [
    "import sys\n",
    "sys.path.append('..')"
   ]
  },
  {
   "cell_type": "code",
   "execution_count": null,
   "metadata": {},
   "outputs": [],
   "source": [
    "import pandas as pd\n",
    "from sklearn.model_selection import train_test_split\n",
    "from sklearn.feature_extraction.text import TfidfVectorizer\n",
    "from sklearn.linear_model import LinearRegression\n",
    "from sklearn.metrics import mean_squared_error\n",
    "from sklearn.pipeline import make_pipeline\n",
    "from pathlib import Path\n",
    "import numpy as np\n",
    "import xgboost as xgb\n",
    "import plotly.express as px\n",
    "import folium\n",
    "from global_variables import BRANDS, GEMSTONES, TAUX_CHANGE\n",
    "\n",
    "from utils import get_sample_lot"
   ]
  },
  {
   "cell_type": "code",
   "execution_count": null,
   "metadata": {},
   "outputs": [],
   "source": [
    "DATA_PATH = Path('../data')\n",
    "VERBOSE = True"
   ]
  },
  {
   "cell_type": "code",
   "execution_count": null,
   "metadata": {},
   "outputs": [],
   "source": [
    "df = pd.read_pickle(DATA_PATH / 'processed/certif_one_gem_processed_data.pkl')\n",
    "if VERBOSE:\n",
    "    display(df.info())"
   ]
  },
  {
   "cell_type": "code",
   "execution_count": null,
   "metadata": {},
   "outputs": [],
   "source": [
    "df = df[df.carat >= 1].copy()"
   ]
  },
  {
   "cell_type": "code",
   "execution_count": null,
   "metadata": {},
   "outputs": [],
   "source": [
    "df.location.value_counts()"
   ]
  },
  {
   "cell_type": "markdown",
   "metadata": {},
   "source": [
    "# Carat analysis"
   ]
  },
  {
   "cell_type": "code",
   "execution_count": null,
   "metadata": {},
   "outputs": [],
   "source": [
    "carat_df  = df.copy().set_index('StartDate')"
   ]
  },
  {
   "cell_type": "code",
   "execution_count": null,
   "metadata": {},
   "outputs": [],
   "source": [
    "carat_df.color.value_counts()"
   ]
  },
  {
   "cell_type": "code",
   "execution_count": null,
   "metadata": {},
   "outputs": [],
   "source": [
    "carat_df['price_per_ct'] = carat_df.PriceRealised / carat_df.carat"
   ]
  },
  {
   "cell_type": "code",
   "execution_count": null,
   "metadata": {},
   "outputs": [],
   "source": [
    "grouped_time_carat_price = carat_df.groupby(['gemstone']).resample('1m').agg({\"price_per_ct\": 'mean', 'lot_id': 'count'})"
   ]
  },
  {
   "cell_type": "code",
   "execution_count": null,
   "metadata": {},
   "outputs": [],
   "source": [
    "grouped_time_carat_price"
   ]
  },
  {
   "cell_type": "code",
   "execution_count": null,
   "metadata": {},
   "outputs": [],
   "source": [
    "px.bar(grouped_time_carat_price.reset_index(), x='StartDate', y='price_per_ct', color='gemstone')\n"
   ]
  },
  {
   "cell_type": "code",
   "execution_count": null,
   "metadata": {},
   "outputs": [],
   "source": [
    "carat_df[carat_df.gemstone == 'diamond']#.loc['2020-11'].sort_values(by=['price_per_ct'],ascending=False)"
   ]
  },
  {
   "cell_type": "code",
   "execution_count": null,
   "metadata": {},
   "outputs": [],
   "source": [
    "# px.line(grouped_time_carat_price.xs('sapphire', level='main_gemstone')['price_per_ct'])\n",
    "get_sample_lot(carat_df, 180268)"
   ]
  },
  {
   "cell_type": "markdown",
   "metadata": {},
   "source": [
    "# Diamond analysis"
   ]
  },
  {
   "cell_type": "code",
   "execution_count": null,
   "metadata": {},
   "outputs": [],
   "source": [
    "px.bar(df.groupby('gemstone').lot_id.count())"
   ]
  },
  {
   "cell_type": "code",
   "execution_count": null,
   "metadata": {},
   "outputs": [],
   "source": [
    "diamond_df = carat_df[carat_df.gemstone == 'diamond'].copy()"
   ]
  },
  {
   "cell_type": "code",
   "execution_count": null,
   "metadata": {},
   "outputs": [],
   "source": [
    "fig = px.pie(diamond_df, names='clarity', title='Diamond Clarity Distribution')\n",
    "fig.show()"
   ]
  },
  {
   "cell_type": "code",
   "execution_count": null,
   "metadata": {},
   "outputs": [],
   "source": [
    "px.bar(diamond_df.groupby('clarity').price_per_ct.mean())"
   ]
  },
  {
   "cell_type": "code",
   "execution_count": null,
   "metadata": {},
   "outputs": [],
   "source": [
    "price_moy = diamond_df.groupby('clarity').agg({'PriceRealised': 'mean'})"
   ]
  },
  {
   "cell_type": "code",
   "execution_count": null,
   "metadata": {},
   "outputs": [],
   "source": [
    "px.box(diamond_df, x='clarity', y='PriceRealised')"
   ]
  },
  {
   "cell_type": "markdown",
   "metadata": {},
   "source": [
    "# biggest sales"
   ]
  },
  {
   "cell_type": "code",
   "execution_count": null,
   "metadata": {},
   "outputs": [],
   "source": [
    "biggest_sales = diamond_df[diamond_df.PriceRealised >=1000000].copy()"
   ]
  },
  {
   "cell_type": "code",
   "execution_count": null,
   "metadata": {},
   "outputs": [],
   "source": [
    "get_sample_lot(biggest_sales, 217258)"
   ]
  },
  {
   "cell_type": "code",
   "execution_count": null,
   "metadata": {},
   "outputs": [],
   "source": [
    "px.histogram(biggest_sales, x='carat')"
   ]
  },
  {
   "cell_type": "code",
   "execution_count": null,
   "metadata": {},
   "outputs": [],
   "source": [
    "fig = px.pie(biggest_sales, names='fancy', title='Diamond Clarity Distribution')\n",
    "fig.show()"
   ]
  },
  {
   "cell_type": "markdown",
   "metadata": {},
   "source": [
    "# Unsaled"
   ]
  },
  {
   "cell_type": "code",
   "execution_count": null,
   "metadata": {},
   "outputs": [],
   "source": [
    "unsold_df = diamond_df[diamond_df.PriceRealised.isna()].copy()"
   ]
  },
  {
   "cell_type": "code",
   "execution_count": null,
   "metadata": {},
   "outputs": [],
   "source": [
    "fig = px.pie(unsold_df, names='fancy', title='Diamond Clarity Distribution')\n",
    "fig.show()"
   ]
  },
  {
   "cell_type": "markdown",
   "metadata": {},
   "source": [
    "# Location analysis"
   ]
  },
  {
   "cell_type": "code",
   "execution_count": null,
   "metadata": {},
   "outputs": [],
   "source": [
    "import folium\n",
    "from folium.plugins import MarkerCluster\n",
    "import pandas as pd\n",
    "\n",
    "# Clean up and process the data\n",
    "df['location'] = df['location'].replace({'ceylon': 'ceylon', 'ceylan': 'ceylon', 'siam': 'thailand', 'mozambi': 'mozambique'})\n",
    "\n",
    "name_mapping = {\n",
    "    'colombia': 'Colombia',\n",
    "    'burma': 'Myanmar',\n",
    "    'tajikistan': 'Tajikistan',\n",
    "    'ceylon': 'Sri Lanka',\n",
    "    'madagascar': 'Madagascar',\n",
    "    'tanzania': 'Tanzania',\n",
    "    'ethiopia': 'Ethiopia',\n",
    "    'zambi': 'Zambia',\n",
    "    'kashmir': 'Kashmir',  # Note: Kashmir might not be a country in the GeoDataFrame\n",
    "    'thailand': 'Thailand',\n",
    "    'siam': 'Thailand',  # Siam is an old name for Thailand\n",
    "    'mozambi': 'Mozambique',\n",
    "    'malawi': 'Malawi'\n",
    "}\n",
    "\n",
    "# Count occurrences of each location\n",
    "location_counts = df['location'].value_counts()"
   ]
  },
  {
   "cell_type": "code",
   "execution_count": null,
   "metadata": {},
   "outputs": [],
   "source": [
    "df.location = df.location.map(name_mapping)"
   ]
  },
  {
   "cell_type": "code",
   "execution_count": null,
   "metadata": {},
   "outputs": [],
   "source": [
    "import geopandas as gpd\n",
    "import matplotlib.pyplot as plt\n",
    "from collections import Counter\n",
    "\n",
    "# Count occurrences of each country\n",
    "country_counts = Counter(df['location'])"
   ]
  },
  {
   "cell_type": "code",
   "execution_count": null,
   "metadata": {},
   "outputs": [],
   "source": [
    "import geopandas as gpd\n",
    "import matplotlib.pyplot as plt\n",
    "from collections import Counter\n",
    "\n",
    "# Count occurrences of each country\n",
    "country_counts = Counter(df['location'])\n",
    "\n",
    "# Create a GeoDataFrame with world map data\n",
    "world = gpd.read_file(DATA_PATH/'ne_110m_admin_0_countries/ne_110m_admin_0_countries.shp')\n"
   ]
  },
  {
   "cell_type": "code",
   "execution_count": null,
   "metadata": {},
   "outputs": [],
   "source": [
    "\n",
    "# Update country colors based on occurrences\n",
    "world['color'] = world['NAME'].apply(lambda x: country_counts.get(x, 0))\n",
    "\n",
    "\n"
   ]
  },
  {
   "cell_type": "code",
   "execution_count": null,
   "metadata": {},
   "outputs": [],
   "source": [
    "sub_world = world[world.color > 0][['NAME', 'color', 'geometry']].copy()"
   ]
  },
  {
   "cell_type": "code",
   "execution_count": null,
   "metadata": {},
   "outputs": [],
   "source": [
    "sub_world"
   ]
  },
  {
   "cell_type": "code",
   "execution_count": null,
   "metadata": {},
   "outputs": [],
   "source": [
    "# Create a base map\n",
    "m = folium.Map(location=[0, 0], zoom_start=2)\n",
    "\n",
    "# Create a MarkerCluster layer for better visualization of markers\n",
    "marker_cluster = MarkerCluster().add_to(m)\n",
    "\n",
    "# Add markers for each country\n",
    "for country, count in country_counts.items():\n",
    "    country_name = name_mapping.get(country, '')\n",
    "    if country_name:\n",
    "        folium.Marker(location=[0, 0], popup=f\"{country_name}: {count}\", tooltip=country_name).add_to(marker_cluster)\n"
   ]
  },
  {
   "cell_type": "code",
   "execution_count": null,
   "metadata": {},
   "outputs": [],
   "source": [
    "import matplotlib\n",
    "colname = 'color'\n",
    "xmin, ymin, xmax, ymax = sub_world.total_bounds\n",
    "\n",
    "centroidx = np.mean([xmin, xmax])\n",
    "centroidy = np.mean([ymin, ymax])\n",
    "\n",
    "map1 = folium.Map(\n",
    "    location=[centroidy, centroidx],\n",
    "    tiles='cartodbpositron',\n",
    "    zoom_start=6,\n",
    ")\n",
    "\n",
    "cmap = matplotlib.cm.get_cmap('viridis')\n",
    "\n",
    "vmin = sub_world[colname].min()\n",
    "vmax = sub_world[colname].max()\n",
    "\n",
    "\n",
    "norm = matplotlib.colors.SymLogNorm(vmin=vmin, vmax=vmax, linthresh=0.1)\n",
    "\n",
    "def fetchHexFromValue(value):\n",
    "  NormedValue = norm(value)\n",
    "  RGBAValue = cmap(NormedValue)\n",
    "  HEXValue = matplotlib.colors.to_hex(RGBAValue)\n",
    "  return HEXValue\n",
    "\n",
    "\n",
    "\n",
    "for idx, r in sub_world.iterrows():\n",
    "\n",
    "    lat = r[\"geometry\"].centroid.y\n",
    "    lon = r[\"geometry\"].centroid.x\n",
    "    folium.Marker(location=[lat, lon],\n",
    "                  popup='idx:{0} <br> {1}: {2}'.format(idx,\n",
    "                                                       colname, \n",
    "                                                       r[colname])\n",
    "    ).add_to(map1)\n",
    "\n",
    "sub_world.explore(colname, cmap=\"viridis\", m=map1)\n",
    "\n",
    "map1"
   ]
  },
  {
   "cell_type": "code",
   "execution_count": null,
   "metadata": {},
   "outputs": [],
   "source": [
    "def get_color(x):\n",
    "    # Normalize the value within the desired range (100 to 1300)\n",
    "    normalized_value = (x - 1) / (236 - 1)\n",
    "\n",
    "    # Map the normalized value to the red color scale (0 to 255)\n",
    "    red = int(255 * normalized_value)\n",
    "\n",
    "    # Create the RGBA color string\n",
    "    rgba_color = f\"rgba({red}, 0, 0)\"\n",
    "\n",
    "    return rgba_color"
   ]
  },
  {
   "cell_type": "code",
   "execution_count": null,
   "metadata": {},
   "outputs": [],
   "source": [
    "m = folium.Map()\n",
    "for _, r in sub_world.iterrows():\n",
    "    # Without simplifying the representation of each borough,\n",
    "    # the map might not be displayed\n",
    "    sim_geo = gpd.GeoSeries(r[\"geometry\"]).simplify(tolerance=0.001)\n",
    "    geo_j = sim_geo.to_json()\n",
    "    color = get_color(r['color'])\n",
    "    print(color)\n",
    "    geo_j = folium.GeoJson(data=geo_j, style_function=lambda x: {\"fillColor\": color})\n",
    "    folium.Popup('{0}: <br> Gemstones: {1}'.format(r['NAME'], \n",
    "                                                       r[colname])).add_to(geo_j)\n",
    "    geo_j.add_to(m)"
   ]
  },
  {
   "cell_type": "code",
   "execution_count": null,
   "metadata": {},
   "outputs": [],
   "source": [
    "m"
   ]
  },
  {
   "cell_type": "code",
   "execution_count": null,
   "metadata": {},
   "outputs": [],
   "source": [
    "# Create a folium map\n",
    "m = folium.Map(location=[0, 0], zoom_start=2)\n",
    "\n",
    "# Add GeoJson layer with custom styling\n",
    "folium.GeoJson(\n",
    "    data=sub_world,\n",
    "    name='geojson',\n",
    "    style_function=lambda x: {\"fillColor\": f\"rgba({x['properties']['color']}, 0, 0, 0)\"}\n",
    ").add_to(m)"
   ]
  },
  {
   "cell_type": "code",
   "execution_count": null,
   "metadata": {},
   "outputs": [],
   "source": [
    "m"
   ]
  },
  {
   "cell_type": "code",
   "execution_count": null,
   "metadata": {},
   "outputs": [],
   "source": [
    "m"
   ]
  },
  {
   "cell_type": "markdown",
   "metadata": {},
   "source": [
    "# Drafts\n",
    "\n",
    "https://onlineonly.christies.com/s/jewels-online-iconic-designs/graff-diamond-eternity-band-ring-19/102322?ldp_breadcrumb=back\n"
   ]
  },
  {
   "cell_type": "code",
   "execution_count": null,
   "metadata": {},
   "outputs": [],
   "source": [
    "grouped_time_carat_price.xs('sapphire', level='main_gemstone')"
   ]
  },
  {
   "cell_type": "code",
   "execution_count": null,
   "metadata": {},
   "outputs": [],
   "source": []
  }
 ],
 "metadata": {
  "kernelspec": {
   "display_name": "Python 3.10.13 ('auction_houses')",
   "language": "python",
   "name": "python3"
  },
  "language_info": {
   "codemirror_mode": {
    "name": "ipython",
    "version": 3
   },
   "file_extension": ".py",
   "mimetype": "text/x-python",
   "name": "python",
   "nbconvert_exporter": "python",
   "pygments_lexer": "ipython3",
   "version": "3.10.13"
  },
  "orig_nbformat": 4,
  "vscode": {
   "interpreter": {
    "hash": "e1fb9400b27cc3f84793ef826cb54f02c54c0100126eee32cd7d6c770fc2cf29"
   }
  }
 },
 "nbformat": 4,
 "nbformat_minor": 2
}
